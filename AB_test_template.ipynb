{
 "cells": [
  {
   "cell_type": "markdown",
   "metadata": {},
   "source": [
    "# Common used functions in A/B testing"
   ]
  },
  {
   "cell_type": "markdown",
   "metadata": {},
   "source": [
    "## Calculate the sample size"
   ]
  },
  {
   "cell_type": "markdown",
   "metadata": {},
   "source": [
    "### Z test"
   ]
  },
  {
   "cell_type": "markdown",
   "metadata": {},
   "source": [
    "Source: https://carlosgrande.me/sample-size-determination/"
   ]
  },
  {
   "cell_type": "markdown",
   "metadata": {},
   "source": [
    "The following example assumes that both groups obey the bernoulli distribution."
   ]
  },
  {
   "cell_type": "code",
   "execution_count": 1,
   "metadata": {},
   "outputs": [],
   "source": [
    "# Libraries\n",
    "import noshmishmosh\n",
    "import pandas as pd\n",
    "import numpy as np\n",
    "from scipy import stats\n",
    "import math\n",
    "import seaborn as sns\n",
    "from matplotlib import pyplot\n",
    "import matplotlib.pyplot as plt\n",
    "\n",
    "# Functions\n",
    "def tolist(tag):\n",
    "    out = [i[tag] for i in visits]\n",
    "    return out"
   ]
  },
  {
   "cell_type": "code",
   "execution_count": 2,
   "metadata": {},
   "outputs": [
    {
     "name": "stdout",
     "output_type": "stream",
     "text": [
      "     ids            name  clickedthrough  purchased  moneyspent\n",
      "0  83421    Michael Todd            True      False         0.0\n",
      "1  46042  Brianna Harmon            True      False         0.0\n",
      "2  23766    Mario Arnold           False      False         0.0\n",
      "3  20859      Paul Quinn           False      False         0.0\n",
      "4  57771    Jerome Moore            True      False         0.0\n"
     ]
    }
   ],
   "source": [
    "visits = noshmishmosh.customer_visits\n",
    "\n",
    "df_visits = pd.DataFrame({'ids': tolist('id'),\n",
    "              'name': tolist('name'),\n",
    "              'clickedthrough': tolist('clickedthrough'),\n",
    "              'purchased': tolist('purchased'),\n",
    "              'moneyspent': tolist('moneyspent')\n",
    "             })\n",
    "\n",
    "\n",
    "print(df_visits.head())"
   ]
  },
  {
   "cell_type": "code",
   "execution_count": 3,
   "metadata": {},
   "outputs": [],
   "source": [
    "# Test that both populations have the same proportion.\n",
    "def z_calc(p1, p2, n1, n2):\n",
    "    p_star = (p1*n1 + p2*n2) / (n1 + n2)\n",
    "    return (p2 - p1) / math.sqrt(p_star*(1 - p_star)*((1.0 / n1) + (1.0 / n2)))"
   ]
  },
  {
   "cell_type": "code",
   "execution_count": 4,
   "metadata": {},
   "outputs": [],
   "source": [
    "# Sample calculator\n",
    "def sample_required(p1, p_diff, alpha):\n",
    "    n = 1\n",
    "    while True:\n",
    "        z = z_calc(p1, p1+p_diff, n1=n, n2=n)\n",
    "        p = 1 - stats.norm.cdf(z)\n",
    "        if p < alpha:\n",
    "            break\n",
    "        n += 1\n",
    "    return n"
   ]
  },
  {
   "cell_type": "code",
   "execution_count": 5,
   "metadata": {},
   "outputs": [
    {
     "name": "stdout",
     "output_type": "stream",
     "text": [
      "Number of visitors that purchased: 93\n",
      "Number of total visitors: 500\n",
      "The baseline is: 18.6 %\n"
     ]
    }
   ],
   "source": [
    "paying_visitors = df_visits[df_visits.purchased == True].ids.count()\n",
    "print('Number of visitors that purchased: {}'.format(paying_visitors))\n",
    "\n",
    "total_visitors = df_visits.ids.count()\n",
    "print('Number of total visitors: {}'.format(total_visitors))\n",
    "\n",
    "baseline = paying_visitors/total_visitors\n",
    "print('The baseline is: {} %'.format(baseline*100))"
   ]
  },
  {
   "cell_type": "code",
   "execution_count": 6,
   "metadata": {},
   "outputs": [
    {
     "name": "stdout",
     "output_type": "stream",
     "text": [
      "These are the first 5 payments sample: [39.01, 10.16, 36.88, 23.41, 33.49]\n",
      "The average payment is: 27 $\n",
      "We need 46 payments to pull in the revenue\n"
     ]
    }
   ],
   "source": [
    "revenue = 1240\n",
    "\n",
    "payments = noshmishmosh.money_spent\n",
    "print('These are the first 5 payments sample: {}'.format(payments[:5]))\n",
    "\n",
    "mean_payments = round(np.mean(payments))\n",
    "print('The average payment is: {} $'.format(mean_payments))\n",
    "\n",
    "n_payments = np.ceil(revenue/mean_payments)\n",
    "print('We need {} payments to pull in the revenue'.format(int(n_payments)))"
   ]
  },
  {
   "cell_type": "code",
   "execution_count": 7,
   "metadata": {},
   "outputs": [
    {
     "name": "stdout",
     "output_type": "stream",
     "text": [
      "The lift required is: 9.2%\n"
     ]
    }
   ],
   "source": [
    "lift = n_payments/total_visitors\n",
    "print('The lift required is: {}%'.format(lift*100))"
   ]
  },
  {
   "cell_type": "code",
   "execution_count": 8,
   "metadata": {},
   "outputs": [
    {
     "name": "stdout",
     "output_type": "stream",
     "text": [
      "The final sample size is calculated with a baseline of 18.6% and a lift of 9.2%. \n",
      "\n",
      "For this example Nosh Mish Mosh needs to show the new pictures to 114 people to make sure there is any improvement\n"
     ]
    }
   ],
   "source": [
    "sample_size = sample_required(baseline, lift, .05)\n",
    "print('The final sample size is calculated with a baseline of {}% and a lift of {}%.'.format(baseline*100, lift*100), '\\n')\n",
    "print('For this example Nosh Mish Mosh needs to show the new pictures to {} people to make sure there is any improvement'.format(sample_size))"
   ]
  },
  {
   "cell_type": "code",
   "execution_count": 11,
   "metadata": {},
   "outputs": [
    {
     "name": "stdout",
     "output_type": "stream",
     "text": [
      "Required sample size: 393\n"
     ]
    }
   ],
   "source": [
    "import statsmodels.api as sm\n",
    "import math\n",
    "\n",
    "# Define parameters\n",
    "alpha = 0.05\n",
    "power = 0.80\n",
    "effect_size = 0.2  # Small, medium, or large effect size (0.2, 0.5, or 0.8)\n",
    "std_dev = 1.0  # Estimated standard deviation of your data\n",
    "\n",
    "# Calculate sample size\n",
    "sample_size = sm.stats.zt_ind_solve_power(effect_size=effect_size, alpha=alpha, power=power, ratio=1.0)\n",
    "\n",
    "# Round up to the nearest whole number\n",
    "sample_size = math.ceil(sample_size)\n",
    "print(f\"Required sample size: {sample_size}\")"
   ]
  },
  {
   "cell_type": "markdown",
   "metadata": {},
   "source": [
    "### T test"
   ]
  },
  {
   "cell_type": "code",
   "execution_count": 10,
   "metadata": {},
   "outputs": [
    {
     "name": "stdout",
     "output_type": "stream",
     "text": [
      "Required sample size: 394\n"
     ]
    },
    {
     "name": "stderr",
     "output_type": "stream",
     "text": [
      "c:\\Users\\x.hong\\AppData\\Local\\anaconda3\\Lib\\site-packages\\scipy\\stats\\_continuous_distns.py:6832: RuntimeWarning: invalid value encountered in _nct_sf\n",
      "  return np.clip(_boost._nct_sf(x, df, nc), 0, 1)\n",
      "c:\\Users\\x.hong\\AppData\\Local\\anaconda3\\Lib\\site-packages\\scipy\\stats\\_continuous_distns.py:6826: RuntimeWarning: invalid value encountered in _nct_cdf\n",
      "  return np.clip(_boost._nct_cdf(x, df, nc), 0, 1)\n"
     ]
    }
   ],
   "source": [
    "import statsmodels.api as sm\n",
    "import math\n",
    "\n",
    "# Define parameters\n",
    "alpha = 0.05\n",
    "power = 0.80\n",
    "effect_size = 0.2  # Small, medium, or large effect size (0.2, 0.5, or 0.8)\n",
    "std_dev = 1.0  # Estimated standard deviation of your data\n",
    "\n",
    "# Calculate sample size\n",
    "sample_size = sm.stats.tt_ind_solve_power(effect_size=effect_size, alpha=alpha, power=power, ratio=1.0)\n",
    "\n",
    "# Round up to the nearest whole number\n",
    "sample_size = math.ceil(sample_size)\n",
    "print(f\"Required sample size: {sample_size}\")"
   ]
  },
  {
   "cell_type": "markdown",
   "metadata": {},
   "source": [
    "If your A/B test involves different types of data or hypotheses, you may need to use a different statistical test. Here are some common tests for different scenarios:\n",
    "\n",
    "Two-Sample t-Test: Used for comparing the means of two independent groups (e.g., A/B groups) with continuous data.\n",
    "\n",
    "Chi-Squared Test: Used for comparing proportions or frequencies in categorical data between two groups.\n",
    "\n",
    "Mann-Whitney U Test (Wilcoxon Rank-Sum Test): Used when your data is not normally distributed or when you're comparing medians instead of means.\n",
    "\n",
    "Paired t-Test: Used when you have paired data points, such as before-and-after measurements, and you want to compare the means within the same subjects.\n",
    "\n",
    "Logistic Regression: Used when your outcome variable is binary (e.g., click-through rates), and you want to model the relationship between the independent variable (A/B group) and the binary outcome."
   ]
  },
  {
   "cell_type": "markdown",
   "metadata": {},
   "source": [
    "**effect_size**: standardized effect size, difference between the two means divided by the standard deviation. If ratio=0, then this is the standardized mean in the one sample test."
   ]
  },
  {
   "cell_type": "markdown",
   "metadata": {},
   "source": [
    "## Calculate the significance"
   ]
  },
  {
   "cell_type": "markdown",
   "metadata": {},
   "source": [
    "## Z test"
   ]
  },
  {
   "cell_type": "code",
   "execution_count": 1,
   "metadata": {},
   "outputs": [
    {
     "name": "stdout",
     "output_type": "stream",
     "text": [
      "Z-statistic: -9.824722993682224, P-value: 8.811594575708955e-23\n"
     ]
    }
   ],
   "source": [
    "import scipy.stats as stats\n",
    "import numpy as np\n",
    "from statsmodels.stats import weightstats as stests\n",
    "\n",
    "# Simulated data\n",
    "group1 = np.random.normal(100, 10, 1000)\n",
    "group2 = np.random.normal(105, 10, 1000)\n",
    "\n",
    "z_stat, p_value = stests.ztest(group1, group2)\n",
    "print(f\"Z-statistic: {z_stat}, P-value: {p_value}\")"
   ]
  },
  {
   "cell_type": "markdown",
   "metadata": {},
   "source": [
    "Z-Test and T-Test\n",
    "\n",
    "Z or T Statistic: A measure of how many standard deviations an element is from the mean.\n",
    "\n",
    "P-value: If less than alpha (commonly 0.05), then you reject the null hypothesis. A low p-value (< 0.05) indicates that you can reject the null hypothesis. In other words, a predictor that uses the groups to explain the variable does a better job than a model that does not take into account the groups."
   ]
  },
  {
   "cell_type": "markdown",
   "metadata": {},
   "source": [
    "## T test"
   ]
  },
  {
   "cell_type": "code",
   "execution_count": 2,
   "metadata": {},
   "outputs": [
    {
     "name": "stdout",
     "output_type": "stream",
     "text": [
      "T-statistic: -2.3616920771981875, P-value: 0.021570663729226225\n"
     ]
    }
   ],
   "source": [
    "# Simulated data\n",
    "group1 = np.random.normal(100, 10, 30)\n",
    "group2 = np.random.normal(105, 10, 30)\n",
    "\n",
    "t_stat, p_value = stats.ttest_ind(group1, group2)\n",
    "print(f\"T-statistic: {t_stat}, P-value: {p_value}\")"
   ]
  },
  {
   "cell_type": "markdown",
   "metadata": {},
   "source": [
    "## Chi test"
   ]
  },
  {
   "cell_type": "code",
   "execution_count": 3,
   "metadata": {},
   "outputs": [
    {
     "name": "stdout",
     "output_type": "stream",
     "text": [
      "Chi-square statistic: 0.7936507936507936, P-value: 0.6724514275370008, Degrees of freedom: 2\n",
      "Expected frequencies: \n",
      "[[12. 20. 28.]\n",
      " [18. 30. 42.]]\n"
     ]
    }
   ],
   "source": [
    "# Simulated data: observed frequencies of some categories for two groups\n",
    "observed = np.array([[10, 20, 30], [20, 30, 40]])\n",
    "\n",
    "chi_stat, p_value, dof, expected = stats.chi2_contingency(observed)\n",
    "print(f\"Chi-square statistic: {chi_stat}, P-value: {p_value}, Degrees of freedom: {dof}\")\n",
    "print(f\"Expected frequencies: \\n{expected}\")"
   ]
  },
  {
   "cell_type": "markdown",
   "metadata": {},
   "source": [
    "Chi-Square Test\n",
    "\n",
    "Chi-Square Statistic: Measures how expected counts and observed counts deviate.\n",
    "\n",
    "P-value: If less than alpha (commonly 0.05), then the result is significant, and the null hypothesis that the variables are independent is rejected.\n",
    "\n",
    "Degrees of Freedom: (Number of rows - 1) * (Number of columns - 1)\n",
    "\n",
    "Expected Frequencies: Values that would be expected if there was no association between the variables."
   ]
  },
  {
   "cell_type": "markdown",
   "metadata": {},
   "source": [
    "## Mann-Whitney U test"
   ]
  },
  {
   "cell_type": "code",
   "execution_count": null,
   "metadata": {},
   "outputs": [],
   "source": [
    "import scipy.stats as stats\n",
    "sample_a = df[df['group_info']=='a']['c'].fillna(0)\n",
    "sample_b = df[df['group_info']=='b']['c'].fillna(0)\n",
    "\n",
    "# Perform the Mann-Whitney U test\n",
    "statistic, p_value = stats.mannwhitneyu(sample_a, sample_b, alternative='greater') # less: To test if Sample A is at least larger than Sample B\n",
    "\n",
    "# Output the results\n",
    "print(f\"U Statistic: {statistic}\")\n",
    "print(f\"P-Value: {p_value}\")\n",
    "\n",
    "# Interpret the results\n",
    "alpha = 0.05  # Set your desired significance level\n",
    "if p_value < alpha:\n",
    "    print(\"Reject the null hypothesis: Sample A is at least larger than Sample B.\")\n",
    "else:\n",
    "    print(\"Fail to reject the null hypothesis: No significant enough.\")"
   ]
  },
  {
   "cell_type": "markdown",
   "metadata": {},
   "source": [
    "## Check the distribution of control and test group"
   ]
  },
  {
   "cell_type": "code",
   "execution_count": null,
   "metadata": {},
   "outputs": [],
   "source": [
    "# Plot the distribution of bid rate over a/b approaches\n",
    "fig, ax = plt.subplots(1,2,figsize=(10, 5))\n",
    "plt.subplot(121)\n",
    "plot1=plt.hist(df[df['group_info']=='control']['metric'],\n",
    "edgecolor='k',linewidth=1.0,color='blue')\n",
    "plt.title(\"metric_control\")\n",
    "\n",
    "plt.subplot(122)\n",
    "plot2=plt.hist(df[df['group_info']=='test']['metric'],\n",
    "edgecolor='k',linewidth=1.0,color='green')\n",
    "plt.title(\"metric_test\")\n",
    "\n",
    "plt.show()"
   ]
  },
  {
   "cell_type": "code",
   "execution_count": null,
   "metadata": {},
   "outputs": [],
   "source": [
    "import seaborn as sns\n",
    "sns.displot(df, x = 'metric', hue = 'group_info', kind = 'kde')"
   ]
  },
  {
   "cell_type": "code",
   "execution_count": null,
   "metadata": {},
   "outputs": [],
   "source": []
  }
 ],
 "metadata": {
  "kernelspec": {
   "display_name": "base",
   "language": "python",
   "name": "python3"
  },
  "language_info": {
   "codemirror_mode": {
    "name": "ipython",
    "version": 3
   },
   "file_extension": ".py",
   "mimetype": "text/x-python",
   "name": "python",
   "nbconvert_exporter": "python",
   "pygments_lexer": "ipython3",
   "version": "3.9.13"
  },
  "orig_nbformat": 4
 },
 "nbformat": 4,
 "nbformat_minor": 2
}
